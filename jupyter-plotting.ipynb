{
 "cells": [
  {
   "cell_type": "code",
   "execution_count": 1,
   "metadata": {},
   "outputs": [
    {
     "name": "stdout",
     "output_type": "stream",
     "text": [
      "[(-0.4522700184255632, 0.8918810629413214), (0.9500224522738047, -0.3121815820570887)]\n"
     ]
    }
   ],
   "source": [
    "from functions.func import generate_points, calc_area, find_connected_vertices, display_points\n",
    "import ipywidgets\n",
    "import numpy as np\n",
    "import matplotlib.pyplot as plt\n",
    "from scipy.spatial import voronoi_plot_2d\n",
    "\n",
    "def plot_fct(n=1, radius=10, shape_toggle=\"circle\", corner_toggle=False, zoom=20):\n",
    "    points = generate_points(n, radius, shape_toggle, corner_toggle)\n",
    "    x_values = [point[0] for point in points]\n",
    "    y_values = [point[1] for point in points]\n",
    "    plt.xlim(-zoom, zoom)\n",
    "    plt.ylim(-zoom, zoom)\n",
    "    plt.xlabel('X')\n",
    "    plt.ylabel('Y')\n",
    "    plt.scatter(x_values, y_values)\n",
    "    #voronoi_plot_2d(points)\n",
    "\n"
   ]
  },
  {
   "cell_type": "code",
   "execution_count": 2,
   "metadata": {},
   "outputs": [
    {
     "data": {
      "application/vnd.jupyter.widget-view+json": {
       "model_id": "5b1a00bd619f4c1887757774f8ed105a",
       "version_major": 2,
       "version_minor": 0
      },
      "text/plain": [
       "interactive(children=(IntSlider(value=1, description='n', max=1000), FloatSlider(value=10.0, description='radi…"
      ]
     },
     "metadata": {},
     "output_type": "display_data"
    },
    {
     "data": {
      "text/plain": [
       "<function __main__.plot_fct(n=1, radius=10, shape_toggle='circle', corner_toggle=False, zoom=20)>"
      ]
     },
     "execution_count": 2,
     "metadata": {},
     "output_type": "execute_result"
    }
   ],
   "source": [
    "ipywidgets.interact(plot_fct, n =(0, 1000, 1),radius = (0, 100, 0.1), shape_toggle = [\"circle\", \"square\"])"
   ]
  },
  {
   "cell_type": "code",
   "execution_count": null,
   "metadata": {},
   "outputs": [],
   "source": []
  }
 ],
 "metadata": {
  "kernelspec": {
   "display_name": "Python 3",
   "language": "python",
   "name": "python3"
  },
  "language_info": {
   "codemirror_mode": {
    "name": "ipython",
    "version": 3
   },
   "file_extension": ".py",
   "mimetype": "text/x-python",
   "name": "python",
   "nbconvert_exporter": "python",
   "pygments_lexer": "ipython3",
   "version": "3.10.6"
  },
  "orig_nbformat": 4
 },
 "nbformat": 4,
 "nbformat_minor": 2
}
